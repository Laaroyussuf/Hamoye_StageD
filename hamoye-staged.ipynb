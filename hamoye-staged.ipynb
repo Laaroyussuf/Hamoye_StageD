{
 "cells": [
  {
   "cell_type": "markdown",
   "id": "c3a852a3",
   "metadata": {
    "papermill": {
     "duration": 0.007114,
     "end_time": "2023-01-16T09:00:32.359093",
     "exception": false,
     "start_time": "2023-01-16T09:00:32.351979",
     "status": "completed"
    },
    "tags": []
   },
   "source": [
    "# Importing Libraries"
   ]
  },
  {
   "cell_type": "code",
   "execution_count": 1,
   "id": "d865d76b",
   "metadata": {
    "execution": {
     "iopub.execute_input": "2023-01-16T09:00:32.373390Z",
     "iopub.status.busy": "2023-01-16T09:00:32.372655Z",
     "iopub.status.idle": "2023-01-16T09:00:44.129795Z",
     "shell.execute_reply": "2023-01-16T09:00:44.128635Z"
    },
    "papermill": {
     "duration": 11.767451,
     "end_time": "2023-01-16T09:00:44.132816",
     "exception": false,
     "start_time": "2023-01-16T09:00:32.365365",
     "status": "completed"
    },
    "tags": []
   },
   "outputs": [],
   "source": [
    "import os\n",
    "import cv2\n",
    "import pandas as pd\n",
    "import numpy as np\n",
    "import gc\n",
    "import matplotlib.pyplot as plt\n",
    "from matplotlib.image import imread\n",
    "from sklearn.metrics import fbeta_score\n",
    "from tqdm import tqdm\n",
    "import tensorflow as tf\n",
    "from keras import optimizers\n",
    "from tensorflow.keras.models import Sequential \n",
    "from tensorflow.keras.preprocessing.image import ImageDataGenerator\n",
    "from tensorflow.keras.layers import Input , Dense , Dropout , Flatten,\\\n",
    "Conv2D,MaxPooling2D , BatchNormalization\n",
    "from keras.callbacks import ModelCheckpoint, EarlyStopping, ReduceLROnPlateau, History\n",
    "import tensorflow_addons as tfa"
   ]
  },
  {
   "cell_type": "markdown",
   "id": "e63ef512",
   "metadata": {
    "papermill": {
     "duration": 0.0058,
     "end_time": "2023-01-16T09:00:44.144845",
     "exception": false,
     "start_time": "2023-01-16T09:00:44.139045",
     "status": "completed"
    },
    "tags": []
   },
   "source": [
    "# Loading and Transforming images dataset"
   ]
  },
  {
   "cell_type": "code",
   "execution_count": 2,
   "id": "6f053ec3",
   "metadata": {
    "execution": {
     "iopub.execute_input": "2023-01-16T09:00:44.159123Z",
     "iopub.status.busy": "2023-01-16T09:00:44.157708Z",
     "iopub.status.idle": "2023-01-16T09:00:44.177610Z",
     "shell.execute_reply": "2023-01-16T09:00:44.176632Z"
    },
    "papermill": {
     "duration": 0.029133,
     "end_time": "2023-01-16T09:00:44.179922",
     "exception": false,
     "start_time": "2023-01-16T09:00:44.150789",
     "status": "completed"
    },
    "tags": []
   },
   "outputs": [
    {
     "data": {
      "text/plain": [
       "['sample_submission.csv', 'test-jpg', 'train_classes.csv', 'train-jpg']"
      ]
     },
     "execution_count": 2,
     "metadata": {},
     "output_type": "execute_result"
    }
   ],
   "source": [
    "path = \"../input/planets-dataset/planet/planet\"\n",
    "os.listdir(path)"
   ]
  },
  {
   "cell_type": "code",
   "execution_count": 3,
   "id": "34a02ed0",
   "metadata": {
    "execution": {
     "iopub.execute_input": "2023-01-16T09:00:44.193482Z",
     "iopub.status.busy": "2023-01-16T09:00:44.192597Z",
     "iopub.status.idle": "2023-01-16T09:00:44.197950Z",
     "shell.execute_reply": "2023-01-16T09:00:44.197066Z"
    },
    "papermill": {
     "duration": 0.014338,
     "end_time": "2023-01-16T09:00:44.200097",
     "exception": false,
     "start_time": "2023-01-16T09:00:44.185759",
     "status": "completed"
    },
    "tags": []
   },
   "outputs": [],
   "source": [
    "train_path = os.path.join(path,\"train_classes.csv\")\n",
    "train_dir = os.path.join(path,'train-jpg')\n",
    "submission_df = os.path.join(path,'sample_submission.csv')\n",
    "test_dir = os.path.join(path,'test-jpg')"
   ]
  },
  {
   "cell_type": "code",
   "execution_count": 4,
   "id": "a6cdfef8",
   "metadata": {
    "execution": {
     "iopub.execute_input": "2023-01-16T09:00:44.213773Z",
     "iopub.status.busy": "2023-01-16T09:00:44.212953Z",
     "iopub.status.idle": "2023-01-16T09:00:44.382098Z",
     "shell.execute_reply": "2023-01-16T09:00:44.381083Z"
    },
    "papermill": {
     "duration": 0.178482,
     "end_time": "2023-01-16T09:00:44.384311",
     "exception": false,
     "start_time": "2023-01-16T09:00:44.205829",
     "status": "completed"
    },
    "tags": []
   },
   "outputs": [
    {
     "data": {
      "text/html": [
       "<div>\n",
       "<style scoped>\n",
       "    .dataframe tbody tr th:only-of-type {\n",
       "        vertical-align: middle;\n",
       "    }\n",
       "\n",
       "    .dataframe tbody tr th {\n",
       "        vertical-align: top;\n",
       "    }\n",
       "\n",
       "    .dataframe thead th {\n",
       "        text-align: right;\n",
       "    }\n",
       "</style>\n",
       "<table border=\"1\" class=\"dataframe\">\n",
       "  <thead>\n",
       "    <tr style=\"text-align: right;\">\n",
       "      <th></th>\n",
       "      <th>image_name</th>\n",
       "      <th>tags</th>\n",
       "    </tr>\n",
       "  </thead>\n",
       "  <tbody>\n",
       "    <tr>\n",
       "      <th>0</th>\n",
       "      <td>train_0</td>\n",
       "      <td>haze primary</td>\n",
       "    </tr>\n",
       "    <tr>\n",
       "      <th>1</th>\n",
       "      <td>train_1</td>\n",
       "      <td>agriculture clear primary water</td>\n",
       "    </tr>\n",
       "    <tr>\n",
       "      <th>2</th>\n",
       "      <td>train_2</td>\n",
       "      <td>clear primary</td>\n",
       "    </tr>\n",
       "    <tr>\n",
       "      <th>3</th>\n",
       "      <td>train_3</td>\n",
       "      <td>clear primary</td>\n",
       "    </tr>\n",
       "    <tr>\n",
       "      <th>4</th>\n",
       "      <td>train_4</td>\n",
       "      <td>agriculture clear habitation primary road</td>\n",
       "    </tr>\n",
       "  </tbody>\n",
       "</table>\n",
       "</div>"
      ],
      "text/plain": [
       "  image_name                                       tags\n",
       "0    train_0                               haze primary\n",
       "1    train_1            agriculture clear primary water\n",
       "2    train_2                              clear primary\n",
       "3    train_3                              clear primary\n",
       "4    train_4  agriculture clear habitation primary road"
      ]
     },
     "execution_count": 4,
     "metadata": {},
     "output_type": "execute_result"
    }
   ],
   "source": [
    "train_df = pd.read_csv(train_path)\n",
    "submission_df = pd.read_csv(submission_df)\n",
    "train_df.head()"
   ]
  },
  {
   "cell_type": "code",
   "execution_count": 5,
   "id": "a7d85beb",
   "metadata": {
    "execution": {
     "iopub.execute_input": "2023-01-16T09:00:44.399710Z",
     "iopub.status.busy": "2023-01-16T09:00:44.399112Z",
     "iopub.status.idle": "2023-01-16T09:00:44.406694Z",
     "shell.execute_reply": "2023-01-16T09:00:44.405770Z"
    },
    "papermill": {
     "duration": 0.016812,
     "end_time": "2023-01-16T09:00:44.409007",
     "exception": false,
     "start_time": "2023-01-16T09:00:44.392195",
     "status": "completed"
    },
    "tags": []
   },
   "outputs": [],
   "source": [
    "def data_preprocess(data):\n",
    "    \n",
    "    # Getting all Unique Classification (Target)\n",
    "    labels = data['tags'].to_numpy()\n",
    "    set_labels = list()\n",
    "    for label in labels:\n",
    "        tags = label.split()\n",
    "        for tag in tags:\n",
    "            if tag not in set_labels:\n",
    "                set_labels.append(tag)\n",
    "    # Encoding Classes (targets)\n",
    "    for set_label in set_labels:\n",
    "        data[set_label]=data[\"tags\"].apply(lambda x: 1 if set_label in x.split() else 0)\n",
    "    \n",
    "    # Adding .jpg to each images name to be able to iterate through them\n",
    "    data['image_name'] = data['image_name'].apply(lambda x: x+\".jpg\")\n",
    "    return data "
   ]
  },
  {
   "cell_type": "code",
   "execution_count": 6,
   "id": "35d42264",
   "metadata": {
    "execution": {
     "iopub.execute_input": "2023-01-16T09:00:44.424033Z",
     "iopub.status.busy": "2023-01-16T09:00:44.423067Z",
     "iopub.status.idle": "2023-01-16T09:00:44.855456Z",
     "shell.execute_reply": "2023-01-16T09:00:44.854291Z"
    },
    "papermill": {
     "duration": 0.442368,
     "end_time": "2023-01-16T09:00:44.857955",
     "exception": false,
     "start_time": "2023-01-16T09:00:44.415587",
     "status": "completed"
    },
    "tags": []
   },
   "outputs": [],
   "source": [
    "df_train = data_preprocess(train_df)\n",
    "\n",
    "def img_generator(training=True,batch_size=128,target_size=(128,128)):\n",
    "    # Function that geneerate the images data\n",
    "    if training:\n",
    "        train_generator = ImageDataGenerator(rescale = 1./255, validation_split = 0.2)\n",
    "        train_gen = train_generator.flow_from_dataframe(dataframe=df_train,\n",
    "                                              directory = train_dir,  \n",
    "                                              x_col=\"image_name\", \n",
    "                                              y_col= df_train.columns.to_list()[2:], \n",
    "                                              subset=\"training\", \n",
    "                                              batch_size=batch_size,\n",
    "                                              seed=42, \n",
    "                                              shuffle = True, \n",
    "                                              class_mode=\"raw\", \n",
    "                                              target_size=target_size)\n",
    "        # val_set contains 20 percent of images \n",
    "        val_gen = train_generator.flow_from_dataframe(dataframe=df_train,\n",
    "                                            directory = train_dir,  \n",
    "                                            x_col=\"image_name\", \n",
    "                                            y_col= df_train.columns.to_list()[2:], \n",
    "                                            subset=\"validation\", \n",
    "                                            batch_size= batch_size,\n",
    "                                            seed=42, \n",
    "                                            shuffle = True, \n",
    "                                            class_mode=\"raw\", \n",
    "                                            target_size=target_size)\n",
    "        return train_gen, val_gen\n",
    "    else:\n",
    "        test_generator = ImageDataGenerator(rescale = 1./255)\n",
    "        test_gen = test_generator.flow_from_dataframe(dataframe=df_test,\n",
    "                                            directory = test_dir,  \n",
    "                                            x_col=\"image_name\", \n",
    "                                            y_col=None, \n",
    "                                            batch_size=batch_size,\n",
    "                                            shuffle=False,\n",
    "                                            class_mode=None, \n",
    "                                            target_size=target_size)\n",
    "        return test_gen"
   ]
  },
  {
   "cell_type": "code",
   "execution_count": 7,
   "id": "e591328a",
   "metadata": {
    "execution": {
     "iopub.execute_input": "2023-01-16T09:00:44.872453Z",
     "iopub.status.busy": "2023-01-16T09:00:44.871558Z",
     "iopub.status.idle": "2023-01-16T09:02:47.412122Z",
     "shell.execute_reply": "2023-01-16T09:02:47.411121Z"
    },
    "papermill": {
     "duration": 122.556714,
     "end_time": "2023-01-16T09:02:47.421085",
     "exception": false,
     "start_time": "2023-01-16T09:00:44.864371",
     "status": "completed"
    },
    "tags": []
   },
   "outputs": [
    {
     "name": "stdout",
     "output_type": "stream",
     "text": [
      "Found 32384 validated image filenames.\n",
      "Found 8095 validated image filenames.\n"
     ]
    }
   ],
   "source": [
    "train, val = img_generator()"
   ]
  },
  {
   "cell_type": "markdown",
   "id": "f431c0b3",
   "metadata": {
    "papermill": {
     "duration": 0.005842,
     "end_time": "2023-01-16T09:02:47.434110",
     "exception": false,
     "start_time": "2023-01-16T09:02:47.428268",
     "status": "completed"
    },
    "tags": []
   },
   "source": [
    "# Building a CNN Model and Evaluation"
   ]
  },
  {
   "cell_type": "code",
   "execution_count": 8,
   "id": "8d25bb0c",
   "metadata": {
    "execution": {
     "iopub.execute_input": "2023-01-16T09:02:47.447593Z",
     "iopub.status.busy": "2023-01-16T09:02:47.447292Z",
     "iopub.status.idle": "2023-01-16T09:02:53.329521Z",
     "shell.execute_reply": "2023-01-16T09:02:53.328577Z"
    },
    "papermill": {
     "duration": 5.891602,
     "end_time": "2023-01-16T09:02:53.331773",
     "exception": false,
     "start_time": "2023-01-16T09:02:47.440171",
     "status": "completed"
    },
    "tags": []
   },
   "outputs": [
    {
     "name": "stderr",
     "output_type": "stream",
     "text": [
      "2023-01-16 09:02:47.606165: I tensorflow/stream_executor/cuda/cuda_gpu_executor.cc:937] successful NUMA node read from SysFS had negative value (-1), but there must be at least one NUMA node, so returning NUMA node zero\n",
      "2023-01-16 09:02:47.607257: I tensorflow/stream_executor/cuda/cuda_gpu_executor.cc:937] successful NUMA node read from SysFS had negative value (-1), but there must be at least one NUMA node, so returning NUMA node zero\n",
      "2023-01-16 09:02:47.863089: I tensorflow/stream_executor/cuda/cuda_gpu_executor.cc:937] successful NUMA node read from SysFS had negative value (-1), but there must be at least one NUMA node, so returning NUMA node zero\n",
      "2023-01-16 09:02:47.863969: I tensorflow/stream_executor/cuda/cuda_gpu_executor.cc:937] successful NUMA node read from SysFS had negative value (-1), but there must be at least one NUMA node, so returning NUMA node zero\n",
      "2023-01-16 09:02:47.864783: I tensorflow/stream_executor/cuda/cuda_gpu_executor.cc:937] successful NUMA node read from SysFS had negative value (-1), but there must be at least one NUMA node, so returning NUMA node zero\n",
      "2023-01-16 09:02:47.865642: I tensorflow/stream_executor/cuda/cuda_gpu_executor.cc:937] successful NUMA node read from SysFS had negative value (-1), but there must be at least one NUMA node, so returning NUMA node zero\n",
      "2023-01-16 09:02:47.869133: I tensorflow/core/platform/cpu_feature_guard.cc:142] This TensorFlow binary is optimized with oneAPI Deep Neural Network Library (oneDNN) to use the following CPU instructions in performance-critical operations:  AVX2 AVX512F FMA\n",
      "To enable them in other operations, rebuild TensorFlow with the appropriate compiler flags.\n",
      "2023-01-16 09:02:48.116652: I tensorflow/stream_executor/cuda/cuda_gpu_executor.cc:937] successful NUMA node read from SysFS had negative value (-1), but there must be at least one NUMA node, so returning NUMA node zero\n",
      "2023-01-16 09:02:48.117539: I tensorflow/stream_executor/cuda/cuda_gpu_executor.cc:937] successful NUMA node read from SysFS had negative value (-1), but there must be at least one NUMA node, so returning NUMA node zero\n",
      "2023-01-16 09:02:48.118320: I tensorflow/stream_executor/cuda/cuda_gpu_executor.cc:937] successful NUMA node read from SysFS had negative value (-1), but there must be at least one NUMA node, so returning NUMA node zero\n",
      "2023-01-16 09:02:48.119018: I tensorflow/stream_executor/cuda/cuda_gpu_executor.cc:937] successful NUMA node read from SysFS had negative value (-1), but there must be at least one NUMA node, so returning NUMA node zero\n",
      "2023-01-16 09:02:48.119773: I tensorflow/stream_executor/cuda/cuda_gpu_executor.cc:937] successful NUMA node read from SysFS had negative value (-1), but there must be at least one NUMA node, so returning NUMA node zero\n",
      "2023-01-16 09:02:48.120536: I tensorflow/stream_executor/cuda/cuda_gpu_executor.cc:937] successful NUMA node read from SysFS had negative value (-1), but there must be at least one NUMA node, so returning NUMA node zero\n",
      "2023-01-16 09:02:52.770623: I tensorflow/stream_executor/cuda/cuda_gpu_executor.cc:937] successful NUMA node read from SysFS had negative value (-1), but there must be at least one NUMA node, so returning NUMA node zero\n",
      "2023-01-16 09:02:52.771580: I tensorflow/stream_executor/cuda/cuda_gpu_executor.cc:937] successful NUMA node read from SysFS had negative value (-1), but there must be at least one NUMA node, so returning NUMA node zero\n",
      "2023-01-16 09:02:52.772363: I tensorflow/stream_executor/cuda/cuda_gpu_executor.cc:937] successful NUMA node read from SysFS had negative value (-1), but there must be at least one NUMA node, so returning NUMA node zero\n",
      "2023-01-16 09:02:52.773104: I tensorflow/stream_executor/cuda/cuda_gpu_executor.cc:937] successful NUMA node read from SysFS had negative value (-1), but there must be at least one NUMA node, so returning NUMA node zero\n",
      "2023-01-16 09:02:52.773911: I tensorflow/stream_executor/cuda/cuda_gpu_executor.cc:937] successful NUMA node read from SysFS had negative value (-1), but there must be at least one NUMA node, so returning NUMA node zero\n",
      "2023-01-16 09:02:52.774624: I tensorflow/core/common_runtime/gpu/gpu_device.cc:1510] Created device /job:localhost/replica:0/task:0/device:GPU:0 with 13789 MB memory:  -> device: 0, name: Tesla T4, pci bus id: 0000:00:04.0, compute capability: 7.5\n",
      "2023-01-16 09:02:52.779569: I tensorflow/stream_executor/cuda/cuda_gpu_executor.cc:937] successful NUMA node read from SysFS had negative value (-1), but there must be at least one NUMA node, so returning NUMA node zero\n",
      "2023-01-16 09:02:52.780313: I tensorflow/core/common_runtime/gpu/gpu_device.cc:1510] Created device /job:localhost/replica:0/task:0/device:GPU:1 with 13789 MB memory:  -> device: 1, name: Tesla T4, pci bus id: 0000:00:05.0, compute capability: 7.5\n"
     ]
    }
   ],
   "source": [
    "model = Sequential()\n",
    "#input layer\n",
    "model.add(BatchNormalization(input_shape=(128, 128, 3)))\n",
    "model.add(Conv2D(32, kernel_size=(3, 3), padding='same', activation='relu'))\n",
    "model.add(Conv2D(32, kernel_size=(3, 3), activation='relu'))\n",
    "model.add(MaxPooling2D(pool_size=(2, 2)))\n",
    "model.add(Dropout(0.2))\n",
    "\n",
    "#Hidden layers\n",
    "model.add(Conv2D(64, kernel_size=(3, 3), padding='same', activation='relu'))\n",
    "model.add(Conv2D(64, kernel_size=(3, 3), activation='relu'))\n",
    "model.add(MaxPooling2D(pool_size=(2, 2)))\n",
    "model.add(Dropout(0.2))\n",
    "\n",
    "model.add(Conv2D(128, kernel_size=(3, 3), padding='same', activation='relu'))\n",
    "model.add(Conv2D(128, kernel_size=(3, 3), activation='relu'))\n",
    "model.add(MaxPooling2D(pool_size=(2, 2)))\n",
    "model.add(Dropout(0.2))\n",
    "\n",
    "model.add(Conv2D(256, kernel_size=(3, 3), padding='same', activation='relu'))\n",
    "model.add(Conv2D(256, kernel_size=(3, 3), activation='relu'))\n",
    "model.add(MaxPooling2D(pool_size=(2, 2)))\n",
    "model.add(Dropout(0.2))\n",
    "\n",
    "model.add(Flatten())\n",
    "model.add(Dense(512, activation='relu'))\n",
    "model.add(Dropout(0.5))\n",
    "\n",
    "#Output layer\n",
    "model.add(Dense(17, activation='sigmoid'))"
   ]
  },
  {
   "cell_type": "code",
   "execution_count": 9,
   "id": "7b701355",
   "metadata": {
    "execution": {
     "iopub.execute_input": "2023-01-16T09:02:53.345559Z",
     "iopub.status.busy": "2023-01-16T09:02:53.345237Z",
     "iopub.status.idle": "2023-01-16T09:02:53.349621Z",
     "shell.execute_reply": "2023-01-16T09:02:53.348726Z"
    },
    "papermill": {
     "duration": 0.013318,
     "end_time": "2023-01-16T09:02:53.351611",
     "exception": false,
     "start_time": "2023-01-16T09:02:53.338293",
     "status": "completed"
    },
    "tags": []
   },
   "outputs": [],
   "source": [
    "train_steps = train.n // train.batch_size\n",
    "val_steps = val.n // train.batch_size"
   ]
  },
  {
   "cell_type": "code",
   "execution_count": 10,
   "id": "c445eb83",
   "metadata": {
    "execution": {
     "iopub.execute_input": "2023-01-16T09:02:53.366447Z",
     "iopub.status.busy": "2023-01-16T09:02:53.364916Z",
     "iopub.status.idle": "2023-01-16T09:02:53.375609Z",
     "shell.execute_reply": "2023-01-16T09:02:53.374635Z"
    },
    "papermill": {
     "duration": 0.019809,
     "end_time": "2023-01-16T09:02:53.377804",
     "exception": false,
     "start_time": "2023-01-16T09:02:53.357995",
     "status": "completed"
    },
    "tags": []
   },
   "outputs": [],
   "source": [
    "def fbeta_score(y_true, y_pred, beta = 2, epsilon = 1e-4):\n",
    "    beta_squared = beta**2\n",
    "    \n",
    "    y_true = tf.cast(y_true, tf.float32)\n",
    "    y_pred = tf.cast(tf.greater(tf.cast(y_pred, tf.float32), tf.constant(0.5)), tf.float32)\n",
    "    \n",
    "    tp = tf.reduce_sum(y_true * y_pred, axis = 1)\n",
    "    fp = tf.reduce_sum(y_pred, axis = 1) - tp\n",
    "    fn = tf.reduce_sum(y_true, axis = 1) - tp\n",
    "    \n",
    "    precision = tp/(tp +fp +epsilon)\n",
    "    recall = tp/(tp + fn + epsilon)\n",
    "    \n",
    "    return (1 + beta_squared) * precision * recall / (beta_squared * precision + recall + epsilon)\n",
    "\n",
    "def accuracy(y_true, y_pred, epsilon = 1e-4):\n",
    "    y_true = tf.cast(y_true, tf.float32)\n",
    "    y_pred = tf.cast(tf.greater(tf.cast(y_pred, tf.float32), tf.constant(0.5)), tf.float32)\n",
    "    \n",
    "    tp = tf.reduce_sum(y_true * y_pred, axis = 1)\n",
    "    fp = tf.reduce_sum(y_pred, axis = 1) - tp\n",
    "    fn = tf.reduce_sum(y_true, axis = 1) - tp\n",
    "    \n",
    "    y_true = tf.cast(y_true, tf.bool)\n",
    "    y_pred = tf.cast(y_pred, tf.bool)\n",
    "        \n",
    "    tn = tf.reduce_sum(tf.cast(tf.logical_not(y_true), tf.float32) * tf.cast(tf.logical_not(y_pred), tf.float32),                 axis = 1)\n",
    "    return (tp + tn)/(tp + tn + fp + fn + epsilon)"
   ]
  },
  {
   "cell_type": "code",
   "execution_count": 11,
   "id": "4501ef63",
   "metadata": {
    "execution": {
     "iopub.execute_input": "2023-01-16T09:02:53.391597Z",
     "iopub.status.busy": "2023-01-16T09:02:53.390835Z",
     "iopub.status.idle": "2023-01-16T09:02:53.403124Z",
     "shell.execute_reply": "2023-01-16T09:02:53.402319Z"
    },
    "papermill": {
     "duration": 0.021505,
     "end_time": "2023-01-16T09:02:53.405322",
     "exception": false,
     "start_time": "2023-01-16T09:02:53.383817",
     "status": "completed"
    },
    "tags": []
   },
   "outputs": [],
   "source": [
    "model.compile(loss='binary_crossentropy',\n",
    "              optimizer='adam',\n",
    "              metrics=[fbeta_score,accuracy])\n",
    "\n",
    "# Save the callback\n",
    "callback = EarlyStopping(\n",
    "    monitor=\"val_loss\", \n",
    "    patience=2,\n",
    "    verbose=0,\n",
    "    baseline=None,\n",
    "    restore_best_weights=True,\n",
    ")"
   ]
  },
  {
   "cell_type": "code",
   "execution_count": 12,
   "id": "a938cbd3",
   "metadata": {
    "execution": {
     "iopub.execute_input": "2023-01-16T09:02:53.419447Z",
     "iopub.status.busy": "2023-01-16T09:02:53.418783Z",
     "iopub.status.idle": "2023-01-16T09:19:52.759297Z",
     "shell.execute_reply": "2023-01-16T09:19:52.758257Z"
    },
    "papermill": {
     "duration": 1019.411071,
     "end_time": "2023-01-16T09:19:52.822914",
     "exception": false,
     "start_time": "2023-01-16T09:02:53.411843",
     "status": "completed"
    },
    "tags": []
   },
   "outputs": [
    {
     "name": "stderr",
     "output_type": "stream",
     "text": [
      "2023-01-16 09:02:54.513980: I tensorflow/compiler/mlir/mlir_graph_optimization_pass.cc:185] None of the MLIR Optimization Passes are enabled (registered 2)\n"
     ]
    },
    {
     "name": "stdout",
     "output_type": "stream",
     "text": [
      "Epoch 1/5\n"
     ]
    },
    {
     "name": "stderr",
     "output_type": "stream",
     "text": [
      "2023-01-16 09:02:58.489925: I tensorflow/stream_executor/cuda/cuda_dnn.cc:369] Loaded cuDNN version 8005\n"
     ]
    },
    {
     "name": "stdout",
     "output_type": "stream",
     "text": [
      "253/253 [==============================] - 331s 1s/step - loss: 0.2200 - fbeta_score: 0.6977 - accuracy: 0.9165 - val_loss: 0.1970 - val_fbeta_score: 0.7001 - val_accuracy: 0.9218\n",
      "Epoch 2/5\n",
      "253/253 [==============================] - 142s 559ms/step - loss: 0.1643 - fbeta_score: 0.7857 - accuracy: 0.9358 - val_loss: 0.1513 - val_fbeta_score: 0.7786 - val_accuracy: 0.9396\n",
      "Epoch 3/5\n",
      "253/253 [==============================] - 145s 573ms/step - loss: 0.1511 - fbeta_score: 0.8011 - accuracy: 0.9402 - val_loss: 0.1374 - val_fbeta_score: 0.8040 - val_accuracy: 0.9447\n",
      "Epoch 4/5\n",
      "253/253 [==============================] - 148s 584ms/step - loss: 0.1411 - fbeta_score: 0.8154 - accuracy: 0.9432 - val_loss: 0.1276 - val_fbeta_score: 0.8303 - val_accuracy: 0.9490\n",
      "Epoch 5/5\n",
      "253/253 [==============================] - 142s 560ms/step - loss: 0.1330 - fbeta_score: 0.8293 - accuracy: 0.9466 - val_loss: 0.1253 - val_fbeta_score: 0.8370 - val_accuracy: 0.9500\n"
     ]
    }
   ],
   "source": [
    "history = model.fit(x=train,\n",
    "                    steps_per_epoch=train_steps,\n",
    "                    validation_data=val,\n",
    "                    validation_steps=val_steps,\n",
    "                    epochs=5,\n",
    "                    callbacks=[callback]) "
   ]
  },
  {
   "cell_type": "markdown",
   "id": "464b96fd",
   "metadata": {
    "papermill": {
     "duration": 0.074338,
     "end_time": "2023-01-16T09:19:52.971662",
     "exception": false,
     "start_time": "2023-01-16T09:19:52.897324",
     "status": "completed"
    },
    "tags": []
   },
   "source": [
    "# Classifying new images"
   ]
  },
  {
   "cell_type": "code",
   "execution_count": 13,
   "id": "86340141",
   "metadata": {
    "execution": {
     "iopub.execute_input": "2023-01-16T09:19:53.119771Z",
     "iopub.status.busy": "2023-01-16T09:19:53.119421Z",
     "iopub.status.idle": "2023-01-16T09:19:53.186467Z",
     "shell.execute_reply": "2023-01-16T09:19:53.185246Z"
    },
    "papermill": {
     "duration": 0.142297,
     "end_time": "2023-01-16T09:19:53.189036",
     "exception": false,
     "start_time": "2023-01-16T09:19:53.046739",
     "status": "completed"
    },
    "tags": []
   },
   "outputs": [
    {
     "data": {
      "text/html": [
       "<div>\n",
       "<style scoped>\n",
       "    .dataframe tbody tr th:only-of-type {\n",
       "        vertical-align: middle;\n",
       "    }\n",
       "\n",
       "    .dataframe tbody tr th {\n",
       "        vertical-align: top;\n",
       "    }\n",
       "\n",
       "    .dataframe thead th {\n",
       "        text-align: right;\n",
       "    }\n",
       "</style>\n",
       "<table border=\"1\" class=\"dataframe\">\n",
       "  <thead>\n",
       "    <tr style=\"text-align: right;\">\n",
       "      <th></th>\n",
       "      <th>image_name</th>\n",
       "    </tr>\n",
       "  </thead>\n",
       "  <tbody>\n",
       "    <tr>\n",
       "      <th>0</th>\n",
       "      <td>test_0.jpg</td>\n",
       "    </tr>\n",
       "    <tr>\n",
       "      <th>1</th>\n",
       "      <td>test_1.jpg</td>\n",
       "    </tr>\n",
       "    <tr>\n",
       "      <th>2</th>\n",
       "      <td>test_2.jpg</td>\n",
       "    </tr>\n",
       "    <tr>\n",
       "      <th>3</th>\n",
       "      <td>test_3.jpg</td>\n",
       "    </tr>\n",
       "    <tr>\n",
       "      <th>4</th>\n",
       "      <td>test_4.jpg</td>\n",
       "    </tr>\n",
       "  </tbody>\n",
       "</table>\n",
       "</div>"
      ],
      "text/plain": [
       "   image_name\n",
       "0  test_0.jpg\n",
       "1  test_1.jpg\n",
       "2  test_2.jpg\n",
       "3  test_3.jpg\n",
       "4  test_4.jpg"
      ]
     },
     "execution_count": 13,
     "metadata": {},
     "output_type": "execute_result"
    }
   ],
   "source": [
    "submission_df = pd.read_csv(os.path.join(path,'sample_submission.csv'))\n",
    "test_df = submission_df.iloc[:40669]['image_name'].reset_index().drop('index', axis =1)\n",
    "\n",
    "test_df['image_name'] = submission_df['image_name'].apply(lambda x: x+'.jpg')\n",
    "test_df.head()"
   ]
  },
  {
   "cell_type": "code",
   "execution_count": 14,
   "id": "b45cd886",
   "metadata": {
    "execution": {
     "iopub.execute_input": "2023-01-16T09:19:53.398814Z",
     "iopub.status.busy": "2023-01-16T09:19:53.398466Z",
     "iopub.status.idle": "2023-01-16T09:21:14.237596Z",
     "shell.execute_reply": "2023-01-16T09:21:14.232295Z"
    },
    "papermill": {
     "duration": 81.045363,
     "end_time": "2023-01-16T09:21:14.309229",
     "exception": false,
     "start_time": "2023-01-16T09:19:53.263866",
     "status": "completed"
    },
    "tags": []
   },
   "outputs": [
    {
     "name": "stdout",
     "output_type": "stream",
     "text": [
      "Found 40669 validated image filenames.\n"
     ]
    }
   ],
   "source": [
    "test_generator = ImageDataGenerator(rescale = 1./255)\n",
    "\n",
    "test_gen = test_generator.flow_from_dataframe(dataframe=test_df,\n",
    "                                            directory = os.path.join(path,'test-jpg'),  \n",
    "                                            x_col=\"image_name\", \n",
    "                                            y_col=None, \n",
    "                                            batch_size=67,\n",
    "                                            shuffle=False,\n",
    "                                            class_mode=None, \n",
    "                                            target_size=(128,128))\n",
    "\n",
    "test_size = test_gen.n // test_gen.batch_size"
   ]
  },
  {
   "cell_type": "code",
   "execution_count": 15,
   "id": "dfead3eb",
   "metadata": {
    "execution": {
     "iopub.execute_input": "2023-01-16T09:21:14.457794Z",
     "iopub.status.busy": "2023-01-16T09:21:14.457449Z",
     "iopub.status.idle": "2023-01-16T09:27:21.930681Z",
     "shell.execute_reply": "2023-01-16T09:27:21.929606Z"
    },
    "papermill": {
     "duration": 367.548829,
     "end_time": "2023-01-16T09:27:21.932724",
     "exception": false,
     "start_time": "2023-01-16T09:21:14.383895",
     "status": "completed"
    },
    "tags": []
   },
   "outputs": [
    {
     "name": "stdout",
     "output_type": "stream",
     "text": [
      "607/607 [==============================] - 367s 603ms/step\n"
     ]
    }
   ],
   "source": [
    "pred = model.predict(test_gen, steps=test_size, verbose=1)"
   ]
  },
  {
   "cell_type": "code",
   "execution_count": 16,
   "id": "90f66e58",
   "metadata": {
    "execution": {
     "iopub.execute_input": "2023-01-16T09:27:22.141467Z",
     "iopub.status.busy": "2023-01-16T09:27:22.140543Z",
     "iopub.status.idle": "2023-01-16T09:27:22.176884Z",
     "shell.execute_reply": "2023-01-16T09:27:22.176028Z"
    },
    "papermill": {
     "duration": 0.141554,
     "end_time": "2023-01-16T09:27:22.178897",
     "exception": false,
     "start_time": "2023-01-16T09:27:22.037343",
     "status": "completed"
    },
    "tags": []
   },
   "outputs": [],
   "source": [
    "labels = df_train['tags'].to_numpy()\n",
    "unique_labels = list()\n",
    "for label in labels:\n",
    "    tags = label.split()\n",
    "    for tag in tags:\n",
    "        if tag not in unique_labels:\n",
    "            unique_labels.append(tag)"
   ]
  },
  {
   "cell_type": "code",
   "execution_count": 17,
   "id": "3d891f41",
   "metadata": {
    "execution": {
     "iopub.execute_input": "2023-01-16T09:27:22.385135Z",
     "iopub.status.busy": "2023-01-16T09:27:22.384567Z",
     "iopub.status.idle": "2023-01-16T09:27:30.490480Z",
     "shell.execute_reply": "2023-01-16T09:27:30.489210Z"
    },
    "papermill": {
     "duration": 8.2117,
     "end_time": "2023-01-16T09:27:30.492875",
     "exception": false,
     "start_time": "2023-01-16T09:27:22.281175",
     "status": "completed"
    },
    "tags": []
   },
   "outputs": [
    {
     "data": {
      "text/html": [
       "<div>\n",
       "<style scoped>\n",
       "    .dataframe tbody tr th:only-of-type {\n",
       "        vertical-align: middle;\n",
       "    }\n",
       "\n",
       "    .dataframe tbody tr th {\n",
       "        vertical-align: top;\n",
       "    }\n",
       "\n",
       "    .dataframe thead th {\n",
       "        text-align: right;\n",
       "    }\n",
       "</style>\n",
       "<table border=\"1\" class=\"dataframe\">\n",
       "  <thead>\n",
       "    <tr style=\"text-align: right;\">\n",
       "      <th></th>\n",
       "      <th>image_name</th>\n",
       "      <th>tags</th>\n",
       "    </tr>\n",
       "  </thead>\n",
       "  <tbody>\n",
       "    <tr>\n",
       "      <th>0</th>\n",
       "      <td>test_0.jpg</td>\n",
       "      <td>primary clear</td>\n",
       "    </tr>\n",
       "    <tr>\n",
       "      <th>1</th>\n",
       "      <td>test_1.jpg</td>\n",
       "      <td>primary clear</td>\n",
       "    </tr>\n",
       "    <tr>\n",
       "      <th>2</th>\n",
       "      <td>test_2.jpg</td>\n",
       "      <td>primary partly_cloudy</td>\n",
       "    </tr>\n",
       "    <tr>\n",
       "      <th>3</th>\n",
       "      <td>test_3.jpg</td>\n",
       "      <td>primary clear</td>\n",
       "    </tr>\n",
       "    <tr>\n",
       "      <th>4</th>\n",
       "      <td>test_4.jpg</td>\n",
       "      <td>primary cloudy partly_cloudy</td>\n",
       "    </tr>\n",
       "  </tbody>\n",
       "</table>\n",
       "</div>"
      ],
      "text/plain": [
       "   image_name                          tags\n",
       "0  test_0.jpg                 primary clear\n",
       "1  test_1.jpg                 primary clear\n",
       "2  test_2.jpg         primary partly_cloudy\n",
       "3  test_3.jpg                 primary clear\n",
       "4  test_4.jpg  primary cloudy partly_cloudy"
      ]
     },
     "execution_count": 17,
     "metadata": {},
     "output_type": "execute_result"
    }
   ],
   "source": [
    "test_names = test_gen.filenames \n",
    "        \n",
    "test_result = pd.DataFrame(pred)\n",
    "test_result = test_result.apply(lambda x: ' '.join(np.array(unique_labels)[x >= 0.2]), axis=1)\n",
    "\n",
    "test_result_df = pd.DataFrame({'image_name': test_names, 'tags': test_result})\n",
    "test_result_df.head()"
   ]
  },
  {
   "cell_type": "code",
   "execution_count": 18,
   "id": "d2a39beb",
   "metadata": {
    "execution": {
     "iopub.execute_input": "2023-01-16T09:27:30.701455Z",
     "iopub.status.busy": "2023-01-16T09:27:30.700481Z",
     "iopub.status.idle": "2023-01-16T09:27:30.708689Z",
     "shell.execute_reply": "2023-01-16T09:27:30.707821Z"
    },
    "papermill": {
     "duration": 0.113022,
     "end_time": "2023-01-16T09:27:30.710907",
     "exception": false,
     "start_time": "2023-01-16T09:27:30.597885",
     "status": "completed"
    },
    "tags": []
   },
   "outputs": [],
   "source": [
    "additional_df = submission_df.iloc[40669:]['image_name'].reset_index().drop('index', axis=1)"
   ]
  },
  {
   "cell_type": "code",
   "execution_count": 19,
   "id": "beb81734",
   "metadata": {
    "execution": {
     "iopub.execute_input": "2023-01-16T09:27:30.917757Z",
     "iopub.status.busy": "2023-01-16T09:27:30.917402Z",
     "iopub.status.idle": "2023-01-16T09:27:30.936038Z",
     "shell.execute_reply": "2023-01-16T09:27:30.934909Z"
    },
    "papermill": {
     "duration": 0.12642,
     "end_time": "2023-01-16T09:27:30.938692",
     "exception": false,
     "start_time": "2023-01-16T09:27:30.812272",
     "status": "completed"
    },
    "tags": []
   },
   "outputs": [
    {
     "data": {
      "text/html": [
       "<div>\n",
       "<style scoped>\n",
       "    .dataframe tbody tr th:only-of-type {\n",
       "        vertical-align: middle;\n",
       "    }\n",
       "\n",
       "    .dataframe tbody tr th {\n",
       "        vertical-align: top;\n",
       "    }\n",
       "\n",
       "    .dataframe thead th {\n",
       "        text-align: right;\n",
       "    }\n",
       "</style>\n",
       "<table border=\"1\" class=\"dataframe\">\n",
       "  <thead>\n",
       "    <tr style=\"text-align: right;\">\n",
       "      <th></th>\n",
       "      <th>image_name</th>\n",
       "    </tr>\n",
       "  </thead>\n",
       "  <tbody>\n",
       "    <tr>\n",
       "      <th>0</th>\n",
       "      <td>file_0.jpg</td>\n",
       "    </tr>\n",
       "    <tr>\n",
       "      <th>1</th>\n",
       "      <td>file_1.jpg</td>\n",
       "    </tr>\n",
       "    <tr>\n",
       "      <th>2</th>\n",
       "      <td>file_10.jpg</td>\n",
       "    </tr>\n",
       "    <tr>\n",
       "      <th>3</th>\n",
       "      <td>file_100.jpg</td>\n",
       "    </tr>\n",
       "    <tr>\n",
       "      <th>4</th>\n",
       "      <td>file_1000.jpg</td>\n",
       "    </tr>\n",
       "  </tbody>\n",
       "</table>\n",
       "</div>"
      ],
      "text/plain": [
       "      image_name\n",
       "0     file_0.jpg\n",
       "1     file_1.jpg\n",
       "2    file_10.jpg\n",
       "3   file_100.jpg\n",
       "4  file_1000.jpg"
      ]
     },
     "execution_count": 19,
     "metadata": {},
     "output_type": "execute_result"
    }
   ],
   "source": [
    "additional_df['image_name'] = additional_df['image_name'].apply(lambda x: '{}.jpg'.format(x))\n",
    "additional_df.head()"
   ]
  },
  {
   "cell_type": "code",
   "execution_count": 20,
   "id": "e57fa2cc",
   "metadata": {
    "execution": {
     "iopub.execute_input": "2023-01-16T09:27:31.147602Z",
     "iopub.status.busy": "2023-01-16T09:27:31.147263Z",
     "iopub.status.idle": "2023-01-16T09:28:32.566133Z",
     "shell.execute_reply": "2023-01-16T09:28:32.565137Z"
    },
    "papermill": {
     "duration": 61.628367,
     "end_time": "2023-01-16T09:28:32.671940",
     "exception": false,
     "start_time": "2023-01-16T09:27:31.043573",
     "status": "completed"
    },
    "tags": []
   },
   "outputs": [
    {
     "name": "stdout",
     "output_type": "stream",
     "text": [
      "Found 20522 validated image filenames.\n"
     ]
    }
   ],
   "source": [
    "additional_gen = test_generator.flow_from_dataframe(dataframe=additional_df,\n",
    "                                                  directory=\"../input/planets-dataset/test-jpg-additional/test-jpg-additional\", \n",
    "                                                  x_col='image_name',\n",
    "                                                  y_col = None,\n",
    "                                                  batch_size=62,\n",
    "                                                  shuffle=False,\n",
    "                                                  class_mode=None, \n",
    "                                                  target_size=(128, 128))\n",
    "\n",
    "\n",
    "additional_step = additional_gen.n // additional_gen.batch_size"
   ]
  },
  {
   "cell_type": "code",
   "execution_count": 21,
   "id": "833294ed",
   "metadata": {
    "execution": {
     "iopub.execute_input": "2023-01-16T09:28:32.925443Z",
     "iopub.status.busy": "2023-01-16T09:28:32.925048Z",
     "iopub.status.idle": "2023-01-16T09:31:37.668633Z",
     "shell.execute_reply": "2023-01-16T09:31:37.667637Z"
    },
    "papermill": {
     "duration": 184.89597,
     "end_time": "2023-01-16T09:31:37.671315",
     "exception": false,
     "start_time": "2023-01-16T09:28:32.775345",
     "status": "completed"
    },
    "tags": []
   },
   "outputs": [
    {
     "name": "stdout",
     "output_type": "stream",
     "text": [
      "331/331 [==============================] - 184s 554ms/step\n"
     ]
    }
   ],
   "source": [
    "pred_additional = model.predict(additional_gen, steps=additional_step, verbose=1)"
   ]
  },
  {
   "cell_type": "code",
   "execution_count": 22,
   "id": "a511f7bb",
   "metadata": {
    "execution": {
     "iopub.execute_input": "2023-01-16T09:31:37.913901Z",
     "iopub.status.busy": "2023-01-16T09:31:37.913555Z",
     "iopub.status.idle": "2023-01-16T09:31:42.614241Z",
     "shell.execute_reply": "2023-01-16T09:31:42.613108Z"
    },
    "papermill": {
     "duration": 4.824161,
     "end_time": "2023-01-16T09:31:42.616566",
     "exception": false,
     "start_time": "2023-01-16T09:31:37.792405",
     "status": "completed"
    },
    "tags": []
   },
   "outputs": [
    {
     "data": {
      "text/html": [
       "<div>\n",
       "<style scoped>\n",
       "    .dataframe tbody tr th:only-of-type {\n",
       "        vertical-align: middle;\n",
       "    }\n",
       "\n",
       "    .dataframe tbody tr th {\n",
       "        vertical-align: top;\n",
       "    }\n",
       "\n",
       "    .dataframe thead th {\n",
       "        text-align: right;\n",
       "    }\n",
       "</style>\n",
       "<table border=\"1\" class=\"dataframe\">\n",
       "  <thead>\n",
       "    <tr style=\"text-align: right;\">\n",
       "      <th></th>\n",
       "      <th>image_name</th>\n",
       "      <th>tags</th>\n",
       "    </tr>\n",
       "  </thead>\n",
       "  <tbody>\n",
       "    <tr>\n",
       "      <th>0</th>\n",
       "      <td>file_0.jpg</td>\n",
       "      <td>primary clear</td>\n",
       "    </tr>\n",
       "    <tr>\n",
       "      <th>1</th>\n",
       "      <td>file_1.jpg</td>\n",
       "      <td>primary agriculture road cultivation partly_cl...</td>\n",
       "    </tr>\n",
       "    <tr>\n",
       "      <th>2</th>\n",
       "      <td>file_10.jpg</td>\n",
       "      <td>haze primary agriculture clear water road</td>\n",
       "    </tr>\n",
       "    <tr>\n",
       "      <th>3</th>\n",
       "      <td>file_100.jpg</td>\n",
       "      <td>primary agriculture clear</td>\n",
       "    </tr>\n",
       "    <tr>\n",
       "      <th>4</th>\n",
       "      <td>file_1000.jpg</td>\n",
       "      <td>primary clear</td>\n",
       "    </tr>\n",
       "  </tbody>\n",
       "</table>\n",
       "</div>"
      ],
      "text/plain": [
       "      image_name                                               tags\n",
       "0     file_0.jpg                                      primary clear\n",
       "1     file_1.jpg  primary agriculture road cultivation partly_cl...\n",
       "2    file_10.jpg          haze primary agriculture clear water road\n",
       "3   file_100.jpg                          primary agriculture clear\n",
       "4  file_1000.jpg                                      primary clear"
      ]
     },
     "execution_count": 22,
     "metadata": {},
     "output_type": "execute_result"
    }
   ],
   "source": [
    "additional_names = additional_gen.filenames \n",
    "        \n",
    "additional_result = pd.DataFrame(pred_additional)\n",
    "additional_result = additional_result.apply(lambda x: ' '.join(np.array(unique_labels)[x >= 0.2]), axis=1)\n",
    "\n",
    "additional_result_df = pd.DataFrame({'image_name': additional_names, 'tags': additional_result})\n",
    "additional_result_df.head()"
   ]
  },
  {
   "cell_type": "code",
   "execution_count": 23,
   "id": "5de96339",
   "metadata": {
    "execution": {
     "iopub.execute_input": "2023-01-16T09:31:42.925330Z",
     "iopub.status.busy": "2023-01-16T09:31:42.924845Z",
     "iopub.status.idle": "2023-01-16T09:31:42.953323Z",
     "shell.execute_reply": "2023-01-16T09:31:42.952442Z"
    },
    "papermill": {
     "duration": 0.187116,
     "end_time": "2023-01-16T09:31:42.955991",
     "exception": false,
     "start_time": "2023-01-16T09:31:42.768875",
     "status": "completed"
    },
    "tags": []
   },
   "outputs": [
    {
     "data": {
      "text/html": [
       "<div>\n",
       "<style scoped>\n",
       "    .dataframe tbody tr th:only-of-type {\n",
       "        vertical-align: middle;\n",
       "    }\n",
       "\n",
       "    .dataframe tbody tr th {\n",
       "        vertical-align: top;\n",
       "    }\n",
       "\n",
       "    .dataframe thead th {\n",
       "        text-align: right;\n",
       "    }\n",
       "</style>\n",
       "<table border=\"1\" class=\"dataframe\">\n",
       "  <thead>\n",
       "    <tr style=\"text-align: right;\">\n",
       "      <th></th>\n",
       "      <th>image_name</th>\n",
       "      <th>tags</th>\n",
       "    </tr>\n",
       "  </thead>\n",
       "  <tbody>\n",
       "    <tr>\n",
       "      <th>0</th>\n",
       "      <td>test_0.jpg</td>\n",
       "      <td>primary clear</td>\n",
       "    </tr>\n",
       "    <tr>\n",
       "      <th>1</th>\n",
       "      <td>test_1.jpg</td>\n",
       "      <td>primary clear</td>\n",
       "    </tr>\n",
       "    <tr>\n",
       "      <th>2</th>\n",
       "      <td>test_2.jpg</td>\n",
       "      <td>primary partly_cloudy</td>\n",
       "    </tr>\n",
       "    <tr>\n",
       "      <th>3</th>\n",
       "      <td>test_3.jpg</td>\n",
       "      <td>primary clear</td>\n",
       "    </tr>\n",
       "    <tr>\n",
       "      <th>4</th>\n",
       "      <td>test_4.jpg</td>\n",
       "      <td>primary cloudy partly_cloudy</td>\n",
       "    </tr>\n",
       "    <tr>\n",
       "      <th>...</th>\n",
       "      <td>...</td>\n",
       "      <td>...</td>\n",
       "    </tr>\n",
       "    <tr>\n",
       "      <th>61186</th>\n",
       "      <td>file_9995.jpg</td>\n",
       "      <td>cloudy</td>\n",
       "    </tr>\n",
       "    <tr>\n",
       "      <th>61187</th>\n",
       "      <td>file_9996.jpg</td>\n",
       "      <td>primary agriculture clear water cultivation</td>\n",
       "    </tr>\n",
       "    <tr>\n",
       "      <th>61188</th>\n",
       "      <td>file_9997.jpg</td>\n",
       "      <td>primary clear</td>\n",
       "    </tr>\n",
       "    <tr>\n",
       "      <th>61189</th>\n",
       "      <td>file_9998.jpg</td>\n",
       "      <td>haze primary cloudy</td>\n",
       "    </tr>\n",
       "    <tr>\n",
       "      <th>61190</th>\n",
       "      <td>file_9999.jpg</td>\n",
       "      <td>primary clear habitation road</td>\n",
       "    </tr>\n",
       "  </tbody>\n",
       "</table>\n",
       "<p>61191 rows × 2 columns</p>\n",
       "</div>"
      ],
      "text/plain": [
       "          image_name                                         tags\n",
       "0         test_0.jpg                                primary clear\n",
       "1         test_1.jpg                                primary clear\n",
       "2         test_2.jpg                        primary partly_cloudy\n",
       "3         test_3.jpg                                primary clear\n",
       "4         test_4.jpg                 primary cloudy partly_cloudy\n",
       "...              ...                                          ...\n",
       "61186  file_9995.jpg                                       cloudy\n",
       "61187  file_9996.jpg  primary agriculture clear water cultivation\n",
       "61188  file_9997.jpg                                primary clear\n",
       "61189  file_9998.jpg                          haze primary cloudy\n",
       "61190  file_9999.jpg                primary clear habitation road\n",
       "\n",
       "[61191 rows x 2 columns]"
      ]
     },
     "execution_count": 23,
     "metadata": {},
     "output_type": "execute_result"
    }
   ],
   "source": [
    "final_df = pd.concat([test_result_df, additional_result_df])\n",
    "final_df = final_df.reset_index().drop('index', axis =1)\n",
    "final_df"
   ]
  },
  {
   "cell_type": "code",
   "execution_count": 24,
   "id": "8de65900",
   "metadata": {
    "execution": {
     "iopub.execute_input": "2023-01-16T09:31:43.321261Z",
     "iopub.status.busy": "2023-01-16T09:31:43.320813Z",
     "iopub.status.idle": "2023-01-16T09:31:43.372975Z",
     "shell.execute_reply": "2023-01-16T09:31:43.372047Z"
    },
    "papermill": {
     "duration": 0.238587,
     "end_time": "2023-01-16T09:31:43.375251",
     "exception": false,
     "start_time": "2023-01-16T09:31:43.136664",
     "status": "completed"
    },
    "tags": []
   },
   "outputs": [
    {
     "data": {
      "text/html": [
       "<div>\n",
       "<style scoped>\n",
       "    .dataframe tbody tr th:only-of-type {\n",
       "        vertical-align: middle;\n",
       "    }\n",
       "\n",
       "    .dataframe tbody tr th {\n",
       "        vertical-align: top;\n",
       "    }\n",
       "\n",
       "    .dataframe thead th {\n",
       "        text-align: right;\n",
       "    }\n",
       "</style>\n",
       "<table border=\"1\" class=\"dataframe\">\n",
       "  <thead>\n",
       "    <tr style=\"text-align: right;\">\n",
       "      <th></th>\n",
       "      <th>image_name</th>\n",
       "      <th>tags</th>\n",
       "    </tr>\n",
       "  </thead>\n",
       "  <tbody>\n",
       "    <tr>\n",
       "      <th>0</th>\n",
       "      <td>test_0</td>\n",
       "      <td>primary clear</td>\n",
       "    </tr>\n",
       "    <tr>\n",
       "      <th>1</th>\n",
       "      <td>test_1</td>\n",
       "      <td>primary clear</td>\n",
       "    </tr>\n",
       "    <tr>\n",
       "      <th>2</th>\n",
       "      <td>test_2</td>\n",
       "      <td>primary partly_cloudy</td>\n",
       "    </tr>\n",
       "    <tr>\n",
       "      <th>3</th>\n",
       "      <td>test_3</td>\n",
       "      <td>primary clear</td>\n",
       "    </tr>\n",
       "    <tr>\n",
       "      <th>4</th>\n",
       "      <td>test_4</td>\n",
       "      <td>primary cloudy partly_cloudy</td>\n",
       "    </tr>\n",
       "    <tr>\n",
       "      <th>...</th>\n",
       "      <td>...</td>\n",
       "      <td>...</td>\n",
       "    </tr>\n",
       "    <tr>\n",
       "      <th>61186</th>\n",
       "      <td>file_9995</td>\n",
       "      <td>cloudy</td>\n",
       "    </tr>\n",
       "    <tr>\n",
       "      <th>61187</th>\n",
       "      <td>file_9996</td>\n",
       "      <td>primary agriculture clear water cultivation</td>\n",
       "    </tr>\n",
       "    <tr>\n",
       "      <th>61188</th>\n",
       "      <td>file_9997</td>\n",
       "      <td>primary clear</td>\n",
       "    </tr>\n",
       "    <tr>\n",
       "      <th>61189</th>\n",
       "      <td>file_9998</td>\n",
       "      <td>haze primary cloudy</td>\n",
       "    </tr>\n",
       "    <tr>\n",
       "      <th>61190</th>\n",
       "      <td>file_9999</td>\n",
       "      <td>primary clear habitation road</td>\n",
       "    </tr>\n",
       "  </tbody>\n",
       "</table>\n",
       "<p>61191 rows × 2 columns</p>\n",
       "</div>"
      ],
      "text/plain": [
       "      image_name                                         tags\n",
       "0         test_0                                primary clear\n",
       "1         test_1                                primary clear\n",
       "2         test_2                        primary partly_cloudy\n",
       "3         test_3                                primary clear\n",
       "4         test_4                 primary cloudy partly_cloudy\n",
       "...          ...                                          ...\n",
       "61186  file_9995                                       cloudy\n",
       "61187  file_9996  primary agriculture clear water cultivation\n",
       "61188  file_9997                                primary clear\n",
       "61189  file_9998                          haze primary cloudy\n",
       "61190  file_9999                primary clear habitation road\n",
       "\n",
       "[61191 rows x 2 columns]"
      ]
     },
     "execution_count": 24,
     "metadata": {},
     "output_type": "execute_result"
    }
   ],
   "source": [
    "final_df['image_name'] = final_df['image_name'].apply(lambda x: x.replace('.jpg',''))\n",
    "final_df"
   ]
  },
  {
   "cell_type": "code",
   "execution_count": 25,
   "id": "aa473d8c",
   "metadata": {
    "execution": {
     "iopub.execute_input": "2023-01-16T09:31:43.619940Z",
     "iopub.status.busy": "2023-01-16T09:31:43.619612Z",
     "iopub.status.idle": "2023-01-16T09:31:43.707984Z",
     "shell.execute_reply": "2023-01-16T09:31:43.707112Z"
    },
    "papermill": {
     "duration": 0.212222,
     "end_time": "2023-01-16T09:31:43.710367",
     "exception": false,
     "start_time": "2023-01-16T09:31:43.498145",
     "status": "completed"
    },
    "tags": []
   },
   "outputs": [],
   "source": [
    "final_df.to_csv('submission.csv', index=False)"
   ]
  }
 ],
 "metadata": {
  "kernelspec": {
   "display_name": "Python 3",
   "language": "python",
   "name": "python3"
  },
  "language_info": {
   "codemirror_mode": {
    "name": "ipython",
    "version": 3
   },
   "file_extension": ".py",
   "mimetype": "text/x-python",
   "name": "python",
   "nbconvert_exporter": "python",
   "pygments_lexer": "ipython3",
   "version": "3.7.12"
  },
  "papermill": {
   "default_parameters": {},
   "duration": 1885.927733,
   "end_time": "2023-01-16T09:31:47.564910",
   "environment_variables": {},
   "exception": null,
   "input_path": "__notebook__.ipynb",
   "output_path": "__notebook__.ipynb",
   "parameters": {},
   "start_time": "2023-01-16T09:00:21.637177",
   "version": "2.3.4"
  }
 },
 "nbformat": 4,
 "nbformat_minor": 5
}
